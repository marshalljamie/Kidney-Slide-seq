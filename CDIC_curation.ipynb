{
 "cells": [
  {
   "cell_type": "code",
   "execution_count": 10,
   "metadata": {},
   "outputs": [],
   "source": [
    "import matplotlib.pyplot as plt\n",
    "import alphashape\n",
    "from descartes import PolygonPatch\n",
    "from shapely.geometry import Point\n",
    "from os import path\n",
    "from KNN_filtration import *"
   ]
  },
  {
   "cell_type": "markdown",
   "metadata": {},
   "source": [
    "### Function defns"
   ]
  },
  {
   "cell_type": "code",
   "execution_count": 37,
   "metadata": {},
   "outputs": [],
   "source": [
    "# Takes in data matrix containing info for cell type to-be-curated and alphashape of structure in which \n",
    "# the cell type must be removed\n",
    "# Returns filtered cell type data\n",
    "def celltype_excluder(dat,alpha_shape):    \n",
    "    points = np.array(dat[['x','y']])\n",
    "    is_in_struct_arr = []\n",
    "    for coord in points:\n",
    "        is_in_struct = alpha_shape.intersects(Point(coord))\n",
    "        is_in_struct_arr.append(is_in_struct)\n",
    "\n",
    "    not_in_struct = [not i for i in is_in_struct_arr]\n",
    "    result = dat[not_in_struct]\n",
    "    \n",
    "    return(result)\n",
    "\n",
    "# Takes in data matrix containing info for cell type to-be-curated and alphashape of structure in which\n",
    "# the cell must be maintained\n",
    "# Returns filtered cell type data\n",
    "def celltype_includer(dat,alpha_shape):\n",
    "    points = np.array(dat[['x','y']])\n",
    "    is_in_struct_arr = []\n",
    "    for coord in points:\n",
    "        is_in_struct = alpha_shape.intersects(Point(coord))\n",
    "        is_in_struct_arr.append(is_in_struct)\n",
    "    \n",
    "    result = dat[is_in_struct_arr]\n",
    "    \n",
    "    return(result)"
   ]
  },
  {
   "cell_type": "markdown",
   "metadata": {},
   "source": [
    "### Initialization"
   ]
  },
  {
   "cell_type": "code",
   "execution_count": 38,
   "metadata": {},
   "outputs": [],
   "source": [
    "section = 'cortex'"
   ]
  },
  {
   "cell_type": "code",
   "execution_count": 40,
   "metadata": {},
   "outputs": [],
   "source": [
    "# input_path is path to file with all beads x features in an array, \n",
    "# features = {'barcode','x','y'}\n",
    "input_path = 'coords.csv'\n",
    "coords = pd.read_csv(input_path,index_col=0)\n",
    "all_coords = np.array(coords)\n",
    "\n",
    "# input_path is path to file with beads x features for all curated CD-PC data in section of interest\n",
    "# features = {'barcode','x','y'}\n",
    "#input_path = 'CDPC_dat.csv'\n",
    "CDPC_dat = pd.read_csv(input_path,index_col=0)\n",
    "\n",
    "# input_path is path to file with beads x features for all CD-IC beads\n",
    "# features = {'barcode','x','y'}\n",
    "input_path = 'CDIC_dat.csv'\n",
    "CDIC_dat = pd.read_csv(input_path,index_col=0)"
   ]
  },
  {
   "cell_type": "markdown",
   "metadata": {},
   "source": [
    "### Remove CD-IC from relevant structures"
   ]
  },
  {
   "cell_type": "code",
   "execution_count": 41,
   "metadata": {},
   "outputs": [],
   "source": [
    "has_glom = False\n",
    "has_gc = False\n",
    "has_MD = False\n",
    "alpha=0.01\n",
    "\n",
    "# input_path is path to data matrix with barcodes x features for all curated cell types in glomeruli\n",
    "# features = {'barcode','x','y'}\n",
    "input_path = 'glom_dat.csv'\n",
    "if path.exists(input_path):\n",
    "    has_glom = True\n",
    "    glom_dat = pd.read_csv(input_path,index_col=0)\n",
    "    points = np.array(glom_dat[['x','y']])\n",
    "    glom_alpha_shape = alphashape.alphashape(points,alpha=alpha)\n",
    "\n",
    "# input_path is path to data matrix with barcodes x features for all curated granular cell beads\n",
    "# features = {'barcode','x','y'}\n",
    "input_path = 'gc_dat.csv'\n",
    "if path.exists(input_path):\n",
    "    has_gc = True\n",
    "    gc_dat = pd.read_csv(input_path,index_col=0)\n",
    "    points = np.array(gc_dat[['x','y']])\n",
    "    gc_alpha_shape = alphashape.alphashape(points,alpha=alpha)\n",
    "\n",
    "# input_path is path to data matrix with barcodes x features for all curated MD beads\n",
    "# features = {'barcode','x','y'}\n",
    "input_path = 'MD_dat.csv'\n",
    "if path.exists(input_path):\n",
    "    has_MD = True\n",
    "    md_dat = pd.read_csv(input_path,index_col=0)\n",
    "    points = np.array(md_dat[['x','y']])\n",
    "    md_alpha_shape = alphashape.alphashape(points,alpha=alpha)\n",
    "\n",
    "if has_glom:\n",
    "    CDIC_dat = celltype_excluder(CDIC_dat,glom_alpha_shape)\n",
    "    if has_gc:\n",
    "        CDIC_dat = celltype_excluder(CDIC_dat,gc_alpha_shape)\n",
    "    if has_MD:\n",
    "        CDIC_dat = celltype_excluder(CDIC_dat,md_alpha_shape)"
   ]
  },
  {
   "cell_type": "markdown",
   "metadata": {},
   "source": [
    "### Phase 1 filtration of CD-IC beads"
   ]
  },
  {
   "cell_type": "markdown",
   "metadata": {},
   "source": [
    "#### Concatenate curated CD-PC beads with unfiltered CD-IC beads and run KNN-filtration"
   ]
  },
  {
   "cell_type": "code",
   "execution_count": 42,
   "metadata": {},
   "outputs": [],
   "source": [
    "CDIC_dat['cell_type'] = ['CD-IC']*CDIC_dat.shape[0]\n",
    "CDPC_dat['cell_type'] = ['CD-PC']*CDPC_dat.shape[0]\n",
    "CD_dat = pd.concat([CDIC_dat,CDPC_dat])"
   ]
  },
  {
   "cell_type": "code",
   "execution_count": 43,
   "metadata": {},
   "outputs": [],
   "source": [
    "# specify parameters\n",
    "# k = number of nearest neighbors to consider per marker bead\n",
    "# threshold = number of nearest neighbors to maintain\n",
    "k = 150\n",
    "threshold = 5"
   ]
  },
  {
   "cell_type": "code",
   "execution_count": 44,
   "metadata": {},
   "outputs": [],
   "source": [
    "CD_eroded = get_markers_in_struct(all_coords, np.array(CD_dat[['barcode','x','y']]), k,threshold)\n",
    "CD_eroded = pd.DataFrame(CD_eroded)\n",
    "CD_eroded = CD_eroded.rename(columns={0:'barcode',1:'x',2:'y'})"
   ]
  },
  {
   "cell_type": "code",
   "execution_count": 45,
   "metadata": {},
   "outputs": [],
   "source": [
    "CD_eroded = CD_eroded[['barcode']].merge(CD_dat,on='barcode')\n",
    "coords = np.array(CD_eroded[['x','y']])\n",
    "alpha = 0.012\n",
    "CD_alpha_shape = alphashape.alphashape(coords, alpha)\n",
    "CD_eroded = celltype_includer(CD_eroded,CD_alpha_shape)"
   ]
  },
  {
   "cell_type": "code",
   "execution_count": 46,
   "metadata": {},
   "outputs": [],
   "source": [
    "CDIC_eroded = CD_eroded[CD_eroded['cell_type']=='CD-IC']"
   ]
  },
  {
   "cell_type": "code",
   "execution_count": null,
   "metadata": {},
   "outputs": [],
   "source": [
    "plt.figure(figsize=(10,10))\n",
    "plt.scatter(CDPC_dat['x'],CDPC_dat['y'],s=3,c='b')\n",
    "plt.scatter(CDIC_eroded['x'],CDIC_eroded['y'],s=3,c='r')\n",
    "plt.xlim(0,6000)\n",
    "plt.ylim(0,6000)\n",
    "\n",
    "colors=['b','r']\n",
    "texts=['CD-PC','CD-IC filter 1']\n",
    "patches = [ plt.plot([],[], marker=\"o\", ms=3, ls=\"\", linewidth=0.6,color=colors[i], \n",
    "                label=\"{:s}\".format(texts[i]) )[0]  for i in range(len(texts)) ]\n",
    "plt.legend(handles=patches, bbox_to_anchor=(1, 0.5), \n",
    "        loc='center left', ncol=1,fontsize='medium')\n",
    "\n",
    "plt.show()"
   ]
  },
  {
   "cell_type": "markdown",
   "metadata": {},
   "source": [
    "### Phase 2 filtration of CD-IC beads"
   ]
  },
  {
   "cell_type": "markdown",
   "metadata": {},
   "source": [
    "#### Maintain CD-IC beads near or within CD-PC tubules"
   ]
  },
  {
   "cell_type": "code",
   "execution_count": 48,
   "metadata": {},
   "outputs": [],
   "source": [
    "# compute polygon encapsulating outer CDPC points\n",
    "coords = np.array(CDPC_dat[['x','y']])\n",
    "alpha = 0.015\n",
    "CDPC_alpha_shape = alphashape.alphashape(coords, alpha)"
   ]
  },
  {
   "cell_type": "code",
   "execution_count": 49,
   "metadata": {},
   "outputs": [],
   "source": [
    "CDIC_coords=[list(x) for x in np.array(CDIC_eroded[['x','y']])]\n",
    "\n",
    "d = []\n",
    "for coord in CDIC_coords:\n",
    "    dist = CDPC_alpha_shape.distance(Point(coord))\n",
    "    d.append(dist)\n",
    "\n",
    "CDIC_eroded=CDIC_eroded.reset_index()\n",
    "d = np.array(d)\n",
    "CDIC_eroded=CDIC_eroded.loc[list(np.where(d<100)[0])]"
   ]
  },
  {
   "cell_type": "code",
   "execution_count": null,
   "metadata": {},
   "outputs": [],
   "source": [
    "plt.figure(figsize=(10,10))\n",
    "plt.scatter(CDPC_dat['x'],CDPC_dat['y'],s=3,c='b')\n",
    "plt.scatter(CDIC_eroded['x'],CDIC_eroded['y'],s=3,c='r')\n",
    "plt.xlim(0,6000)\n",
    "plt.ylim(0,6000)\n",
    "colors=['b','r']\n",
    "texts=['CD-PC','CD-IC filter 2']\n",
    "patches = [ plt.plot([],[], marker=\"o\", ms=3, ls=\"\", linewidth=0.6,color=colors[i], \n",
    "                label=\"{:s}\".format(texts[i]) )[0]  for i in range(len(texts)) ]\n",
    "plt.legend(handles=patches, bbox_to_anchor=(1, 0.5), \n",
    "        loc='center left', ncol=1,fontsize='medium')\n",
    "plt.show()"
   ]
  },
  {
   "cell_type": "code",
   "execution_count": null,
   "metadata": {},
   "outputs": [],
   "source": [
    "# out_path is path to output file\n",
    "out_path = 'CDIC_filtered.csv'\n",
    "CDIC_dat_filt.to_csv(out_path)"
   ]
  }
 ],
 "metadata": {
  "kernelspec": {
   "display_name": "Python 3",
   "language": "python",
   "name": "python3"
  },
  "language_info": {
   "codemirror_mode": {
    "name": "ipython",
    "version": 3
   },
   "file_extension": ".py",
   "mimetype": "text/x-python",
   "name": "python",
   "nbconvert_exporter": "python",
   "pygments_lexer": "ipython3",
   "version": "3.7.6"
  }
 },
 "nbformat": 4,
 "nbformat_minor": 2
}
