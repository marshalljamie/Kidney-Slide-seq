{
 "cells": [
  {
   "cell_type": "code",
   "execution_count": null,
   "metadata": {},
   "outputs": [],
   "source": [
    "import pandas as pd\n",
    "import numpy as np\n",
    "from sklearn.cluster import KMeans\n",
    "from shapely.geometry import Point\n",
    "import os"
   ]
  },
  {
   "cell_type": "markdown",
   "metadata": {},
   "source": [
    "### Function defns"
   ]
  },
  {
   "cell_type": "code",
   "execution_count": null,
   "metadata": {},
   "outputs": [],
   "source": [
    "# weights gc cluster centers by REN/Ren1 gene expression\n",
    "def weight_centers(gc_dat):\n",
    "    gc_ids = np.unique(gc_dat['cluster'])\n",
    "    gc_weighted_cluster_ctrs = []\n",
    "    \n",
    "    for i in gc_ids:\n",
    "        cluster=gc_dat[gc_dat['cluster']==i]\n",
    "        weighted_coords = cluster[['x','y']].mul(cluster['Ren1'], axis=0)\n",
    "        denom = sum(cluster['Ren1'])\n",
    "        cluster_center = (sum(weighted_coords['x'])/denom, sum(weighted_coords['y'])/denom)\n",
    "        gc_weighted_cluster_ctrs.append(cluster_center)\n",
    "    \n",
    "    gc_weighted_cluster_ctrs = np.array(gc_weighted_cluster_ctrs)\n",
    "    return(gc_weighted_cluster_ctrs)\n",
    "\n",
    "# compute euclidean distance between two coordinates\n",
    "def single_dist(coord1,coord2):\n",
    "    dist = Point(coord1).distance(Point(coord2))\n",
    "    return(dist)\n",
    "\n",
    "# finds min distance between each gc cluster and all glomeruli\n",
    "def compute_gc_glom_dists(gc_cluster_centers,glom_cluster_centers):\n",
    "    min_dists = []\n",
    "    for gc_cluster_center in gc_cluster_centers:\n",
    "        dists = []\n",
    "        for glom_cluster_center in glom_cluster_centers:\n",
    "            d = single_dist(gc_cluster_center,glom_cluster_center)\n",
    "            dists.append((d))\n",
    "        min_dists.append(min(dists))\n",
    "    min_dists = np.array(min_dists)\n",
    "    return(min_dists)"
   ]
  },
  {
   "cell_type": "markdown",
   "metadata": {},
   "source": [
    "### File input"
   ]
  },
  {
   "cell_type": "code",
   "execution_count": null,
   "metadata": {},
   "outputs": [],
   "source": [
    "### Read in input data\n",
    "# input_path is path to file with beads x features for all curated beads in glomeruli\n",
    "# features = {'barcode','x','y'}\n",
    "input_path = 'glom_dat.csv'\n",
    "glom_dat = pd.read_csv(input_path,index_col=0)\n",
    "\n",
    "# input_path is path to file with beads x features for all curated beads in granular cells\n",
    "# features = {'barcode','x','y','Ren1'} ('Ren1' column has expression of REN/Ren1)\n",
    "input_path = 'gc_dat.csv'\n",
    "gc_dat = pd.read_csv(input_path,index_col=0)"
   ]
  },
  {
   "cell_type": "markdown",
   "metadata": {},
   "source": [
    "### Run KMeans for glom/gc structure centers"
   ]
  },
  {
   "cell_type": "code",
   "execution_count": null,
   "metadata": {},
   "outputs": [],
   "source": [
    "### visualize glomerular cell type locations to determine number of glomeruli (n_clusters param)\n",
    "plt.figure(figsize=(10,10))\n",
    "plt.scatter(glom_dat['x'],glom_dat['y'],s=3,c='b')\n",
    "plt.xlim(0,6000)\n",
    "plt.ylim(0,6000)\n",
    "plt.title('glomeruli')\n",
    "plt.show()"
   ]
  },
  {
   "cell_type": "code",
   "execution_count": null,
   "metadata": {},
   "outputs": [],
   "source": [
    "# set n_clusters to number of glomeruli in array\n",
    "n_clusters=0\n",
    "coords = np.array(glom_dat[['x','y']])\n",
    "kmeans = KMeans(n_clusters=n_clusters, random_state=0,n_jobs=-1).fit(coords)\n",
    "glom_cluster_centers = kmeans.cluster_centers_"
   ]
  },
  {
   "cell_type": "code",
   "execution_count": null,
   "metadata": {},
   "outputs": [],
   "source": [
    "### visualize granular cell locations to determine number of gc clusters (n_clusters param)\n",
    "plt.figure(figsize=(10,10))\n",
    "plt.scatter(gc_dat['x'],gc_dat['y'],s=3,c='r')\n",
    "plt.xlim(0,6000)\n",
    "plt.ylim(0,6000)\n",
    "plt.title('granular cells')\n",
    "plt.show()"
   ]
  },
  {
   "cell_type": "code",
   "execution_count": null,
   "metadata": {},
   "outputs": [],
   "source": [
    "# set n_clusters to number of granular cells in array\n",
    "n_clusters=0\n",
    "coords = np.array(gc_dat[['x','y']])\n",
    "kmeans = KMeans(n_clusters=n_clusters, random_state=0,n_jobs=-1).fit(coords)\n",
    "gc_dat['cluster'] = kmeans.labels_\n",
    "gc_cluster_centers = weight_centers(gc_dat)"
   ]
  },
  {
   "cell_type": "markdown",
   "metadata": {},
   "source": [
    "### Find minimum distance between each gc cluster and glom"
   ]
  },
  {
   "cell_type": "code",
   "execution_count": null,
   "metadata": {},
   "outputs": [],
   "source": [
    "# out_path is path to output file\n",
    "dists = compute_gc_glom_dists(gc_cluster_centers,glom_cluster_centers)\n",
    "dists = pd.DataFrame(dists)\n",
    "out_path = 'glom_gc_distances.csv'\n",
    "dists.to_csv(out_path)"
   ]
  }
 ],
 "metadata": {
  "kernelspec": {
   "display_name": "Python 3",
   "language": "python",
   "name": "python3"
  },
  "language_info": {
   "codemirror_mode": {
    "name": "ipython",
    "version": 3
   },
   "file_extension": ".py",
   "mimetype": "text/x-python",
   "name": "python",
   "nbconvert_exporter": "python",
   "pygments_lexer": "ipython3",
   "version": "3.7.6"
  }
 },
 "nbformat": 4,
 "nbformat_minor": 2
}
