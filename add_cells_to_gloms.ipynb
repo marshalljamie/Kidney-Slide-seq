{
 "cells": [
  {
   "cell_type": "code",
   "execution_count": 1,
   "metadata": {},
   "outputs": [],
   "source": [
    "import pandas as pd\n",
    "import numpy as np\n",
    "from sklearn.cluster import KMeans\n",
    "from shapely.geometry import Point\n",
    "import matplotlib.pyplot as plt\n",
    "import os"
   ]
  },
  {
   "cell_type": "markdown",
   "metadata": {},
   "source": [
    "### Function defns"
   ]
  },
  {
   "cell_type": "code",
   "execution_count": null,
   "metadata": {},
   "outputs": [],
   "source": [
    "# compute_cluster_radii helper function\n",
    "# computes distance between two coordinates\n",
    "def single_dist(coord1,coord2):\n",
    "    dist = Point(coord1).distance(Point(coord2))\n",
    "    return(dist)\n",
    "\n",
    "# structure_assigner helper function\n",
    "# input: kmeans cluster centers and tuples eroded points and which cluster they each belong to\n",
    "# returns radius of each cluster\n",
    "def compute_cluster_radii(cluster_centers, eroded):\n",
    "    radii = []\n",
    "    clusters = np.unique(eroded['cluster'])\n",
    "    \n",
    "    for i,cluster in enumerate(clusters):\n",
    "        center = cluster_centers[i]\n",
    "        cluster = eroded[eroded['cluster']==cluster].copy()\n",
    "        cluster_coords = np.array(cluster[['x','y']])\n",
    "        d_to_center = [single_dist(c,center) for c in cluster_coords]\n",
    "        radii.append(max(d_to_center))   \n",
    "    \n",
    "    return(radii)\n",
    "\n",
    "def is_in_circle(coord,center,r):\n",
    "    return(single_dist(coord,center) < r)\n",
    "\n",
    "# input: centers of curated podocyte clusters, curated podocyte beads, other celltypes to be added\n",
    "# assigns all other coordinates assigned cell types other than marker to structure components\n",
    "# returns data frame with all coords within structure, their cluster assignments, and cell type assignments\n",
    "def assign_other_celltypes(cluster_centers, eroded, other, cell_type):\n",
    "    radii = compute_cluster_radii(cluster_centers,eroded)\n",
    "    other = other[other['cell_type']==cell_type].copy()\n",
    "    other_coords = np.array(other[['x','y']])\n",
    "    other_barcodes = [x[0] for x in np.array(other[['barcode']])]\n",
    "    n_clusters = len(cluster_centers)\n",
    "    result = []\n",
    "    for i in range(len(other_coords)):\n",
    "        for j in range(n_clusters):\n",
    "            if(is_in_circle(other_coords[i],cluster_centers[j],radii[j])):\n",
    "                to_append = [other_barcodes[i],j]\n",
    "                result.append(to_append)\n",
    "                break\n",
    "    return(result)"
   ]
  },
  {
   "cell_type": "markdown",
   "metadata": {},
   "source": [
    "### File input"
   ]
  },
  {
   "cell_type": "code",
   "execution_count": null,
   "metadata": {},
   "outputs": [],
   "source": [
    "# input_path is path to data matrix with beads x features for all curated podocytes\n",
    "# features = {'barcode','x','y'} \n",
    "input_path = 'podo_dat.csv'\n",
    "podo_dat = pd.read_csv(input_path,index_col=0)"
   ]
  },
  {
   "cell_type": "code",
   "execution_count": null,
   "metadata": {},
   "outputs": [],
   "source": [
    "# input_path is path to data matrix with beads x features for all other cell types to be added to glomeruli (mesangial and endothelial cells)\n",
    "# features = {'barcode','x','y','cell_type'}\n",
    "input_path = 'other_cells_dat.csv'\n",
    "other_cells_dat = pd.read_csv(input_path,index_col=0)\n",
    "other_cells_dat = other_cells_dat.reset_index()\n",
    "other_cells_dat = other_cells_dat.drop(columns={'index'})"
   ]
  },
  {
   "cell_type": "markdown",
   "metadata": {},
   "source": [
    "### Analysis"
   ]
  },
  {
   "cell_type": "code",
   "execution_count": null,
   "metadata": {},
   "outputs": [],
   "source": [
    "### visualize podocytes to determine number of glomeruli (n_clusters param)\n",
    "plt.figure(figsize=(10,10))\n",
    "plt.scatter(podo_dat['x'],podo_dat['y'],s=3,c='b')\n",
    "plt.xlim(0,6000)\n",
    "plt.ylim(0,6000)\n",
    "plt.show()"
   ]
  },
  {
   "cell_type": "code",
   "execution_count": null,
   "metadata": {},
   "outputs": [],
   "source": [
    "### find cluster centers of curated podocyte markers\n",
    "# set n_clusters to number of podocyte clusters in array\n",
    "n_clusters=0\n",
    "coords = np.array(podo_dat[['x','y']])\n",
    "kmeans = KMeans(n_clusters=n_clusters, random_state=0).fit(coords)\n",
    "podo_cluster_centers = kmeans.cluster_centers_\n",
    "labels = kmeans.labels_\n",
    "podo_dat['cluster'] = labels"
   ]
  },
  {
   "cell_type": "code",
   "execution_count": null,
   "metadata": {},
   "outputs": [],
   "source": [
    "### find mesangial cells in glomerular areas\n",
    "mesangial_in_glom = assign_other_celltypes(cluster_centers,podo_dat,other_cells_dat,'Mesangial')\n",
    "mesangial_in_glom = pd.DataFrame(mesangial_in_glom)\n",
    "mesangial_in_glom = mesangial_in_glom.rename(columns={0:'barcode',1:'cluster'})\n",
    "mesangial_in_glom = other_cells_dat.merge(mesangial_in_glom,on='barcode')\n",
    "\n",
    "### find endothelial cells in glomerular areas\n",
    "endothelial_in_glom = assign_other_celltypes(cluster_centers,podo_dat,other_cells_dat,'Endothelial')\n",
    "endothelial_in_glom = pd.DataFrame(endothelial_in_glom)\n",
    "endothelial_in_glom = endothelial_in_glom.rename(columns={0:'barcode',1:'cluster'})\n",
    "endothelial_in_glom = other_cells_dat.merge(endothelial_in_glom,on='barcode')\n",
    "\n",
    "podo_dat['cell_type']=['Podocyte']*podo_dat.shape[0]\n",
    "podo_dat = podo_dat[['barcode','x','y','cell_type','cluster']]\n",
    "\n",
    "final = pd.concat([podo_dat,mesangial_in_glom,endothelial_in_glom])\n",
    "final = final.reset_index()\n",
    "final = final.drop(columns={'index'})"
   ]
  },
  {
   "cell_type": "code",
   "execution_count": null,
   "metadata": {},
   "outputs": [],
   "source": [
    "# out_path is path to output file\n",
    "out_path = 'all_glomerular_cells.csv'\n",
    "final.to_csv(out_path)"
   ]
  }
 ],
 "metadata": {
  "kernelspec": {
   "display_name": "Python 3",
   "language": "python",
   "name": "python3"
  },
  "language_info": {
   "codemirror_mode": {
    "name": "ipython",
    "version": 3
   },
   "file_extension": ".py",
   "mimetype": "text/x-python",
   "name": "python",
   "nbconvert_exporter": "python",
   "pygments_lexer": "ipython3",
   "version": "3.7.6"
  }
 },
 "nbformat": 4,
 "nbformat_minor": 2
}
