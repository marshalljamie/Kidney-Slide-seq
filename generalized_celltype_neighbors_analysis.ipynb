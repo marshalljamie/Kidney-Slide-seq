{
 "cells": [
  {
   "cell_type": "code",
   "execution_count": null,
   "metadata": {},
   "outputs": [],
   "source": [
    "import pandas as pd\n",
    "import numpy as np\n",
    "import os\n",
    "import matplotlib.pyplot as plt\n",
    "import argparse\n",
    "from os import path\n",
    "from sklearn.neighbors import radius_neighbors_graph\n",
    "np.random.seed(111)"
   ]
  },
  {
   "cell_type": "code",
   "execution_count": null,
   "metadata": {},
   "outputs": [],
   "source": [
    "cell_type = 'TAL'\n",
    "specimen = 'mouse'\n",
    "section = 'cortex'\n",
    "gene = 'Trem2'"
   ]
  },
  {
   "cell_type": "code",
   "execution_count": null,
   "metadata": {},
   "outputs": [],
   "source": [
    "if specimen == 'human':\n",
    "    arrayids = ['200115_17','200115_18','200121_01','200121_03']\n",
    "elif specimen == 'mouse':\n",
    "    # to_process_all_UMODKI.txt and to_process_all_UMODWT.txt contain list of unique ids for UMOD-KI and UMOD-WT arrays\n",
    "    umodki_arrayids = list(pd.read_csv('to_process_all_UMODKI.txt',header=None)[0])\n",
    "    umodwt_arrayids = list(pd.read_csv('to_process_all_UMODWT.txt',header=None)[0])\n",
    "    arrayids = umodki_arrayids+umodwt_arrayids"
   ]
  },
  {
   "cell_type": "code",
   "execution_count": null,
   "metadata": {},
   "outputs": [],
   "source": [
    "radius = 25\n",
    "if specimen == 'mouse':\n",
    "    cell_names = ['PCT1','PCT2','Endothelial','Mesangial','Fibroblast','TAL','DCT','CDIC','CDPC','Ren1','MD','Podocyte','Macrophage','other_immune','vSMC']\n",
    "elif specimen == 'human':\n",
    "    cell_names = ['PCT','Endothelial','Mesangial','Fibroblast','TAL','DCT','CDIC','CDPC','Ren1','MD','Podocyte','Macrophage','Immune','vSMC']"
   ]
  },
  {
   "cell_type": "code",
   "execution_count": null,
   "metadata": {},
   "outputs": [],
   "source": [
    "if specimen == 'mouse':\n",
    "    gene_name = 'Trem2'\n",
    "    cell_names.append('Trem2')\n",
    "elif specimen == 'human':\n",
    "    gene_name = 'Lyve1'\n",
    "    cell_names.append('Lyve1')"
   ]
  },
  {
   "cell_type": "code",
   "execution_count": null,
   "metadata": {},
   "outputs": [],
   "source": [
    "all_interactions = pd.DataFrame()\n",
    "for array_id in arrayids:\n",
    "    print(array_id)\n",
    "    if specimen == 'human':\n",
    "        pheno = 'human'\n",
    "    elif specimen == 'mouse':\n",
    "        if array_id in umodki_arrayids:\n",
    "            pheno = 'UMOD-KI'\n",
    "        if array_id in umodwt_arrayids:\n",
    "            pheno = 'UMOD-WT'\n",
    "    \n",
    "    print(array_id,pheno)\n",
    "    \n",
    "    # input_path is path to file with beads x features for all curated cell type calls in an array\n",
    "    # features = {'barcode','x','y','cell_type','section'}\n",
    "    input_path = '{}_allcells.csv'.format(array_id)\n",
    "    allcells_info = pd.read_csv(input_path,index_col=0)\n",
    "    allcells_info = allcells_info[allcells_info['section']==section].copy()\n",
    "    \n",
    "    if not allcells_info.empty:\n",
    "        allcells_info = allcells_info.reset_index()\n",
    "        allcells_info = allcells_info.drop(columns={'index'})\n",
    "        \n",
    "        # input_path is path to file with beads x features for all Lyve1 or Trem2-expressing macrophages in an array\n",
    "        # features = {'barcode','x','y','section'}\n",
    "        input_path = '{array_id}_macrophage_{gene}_info.csv'.format(array_id=array_id,gene=gene_name)\n",
    "        immune_info = pd.DataFrame()\n",
    "        if path.exists(input_path):\n",
    "            immune_info = pd.read_csv(input_path,index_col=0)\n",
    "            immune_info = immune_info.reset_index()\n",
    "            immune_info = immune_info.drop(columns={'index'})\n",
    "            immune_barcodes = list(immune_info['barcode'])\n",
    "        \n",
    "        if not immune_info.empty:\n",
    "            trem2_indices = np.where(allcells_info['barcode'].isin(immune_barcodes))[0]\n",
    "            allcells_info.loc[trem2_indices,'cell_type'] = gene_name\n",
    "            \n",
    "            celltype_info = allcells_info[allcells_info['cell_type']==cell_type].copy()\n",
    "            celltype_barcodes = list(celltype_info['barcode'])\n",
    "            \n",
    "            celltype_indices = np.where(allcells_info['barcode'].isin(celltype_barcodes))[0]\n",
    "            \n",
    "            celltype_counts = {}\n",
    "            for name in cell_names:\n",
    "                celltype_info = allcells_info[allcells_info['cell_type']==name]\n",
    "                ct = celltype_info.shape[0]\n",
    "                celltype_counts[name] = ct\n",
    "            \n",
    "            # compute nearest neighbor graph of all beads\n",
    "            allcells_coords = np.array(allcells_info[['x','y']])\n",
    "            nn = radius_neighbors_graph(allcells_coords, radius, mode='connectivity',include_self=False)\n",
    "            nn = nn.toarray()\n",
    "            \n",
    "            # find nearest neighbor array of cell types of interest\n",
    "            celltype_nn = nn[celltype_indices,]\n",
    "            \n",
    "            # find nearest neighbors of cell type of interest (indices of columns of celltype_nn where value = 1)\n",
    "            celltype_nn_info_dict = {}\n",
    "            for row in range(celltype_nn.shape[0]):\n",
    "                celltype_nn_row = celltype_nn[row,]\n",
    "                celltype_nn_is_true = np.where(celltype_nn_row == 1)[0]\n",
    "                celltype_nn_info = allcells_info.iloc[celltype_nn_is_true,]\n",
    "                celltype_nn_info_dict[row] = celltype_nn_info\n",
    "            \n",
    "            interactions = pd.DataFrame()\n",
    "            for i in range(len(celltype_nn_info_dict)):\n",
    "                instance = celltype_nn_info_dict[i]\n",
    "                for name in cell_names:\n",
    "                    instance_cell = instance[instance['cell_type']==name]\n",
    "                    num_cell = instance_cell.shape[0]\n",
    "                    num_cell_norm1 = num_cell/np.sqrt(celltype_counts[name]*celltype_counts[cell_type])\n",
    "                    d = {'celltype_id':[i],'celltype':[name],'interaction_norm1':[num_cell_norm1]}\n",
    "                    d = pd.DataFrame(d)\n",
    "                    interactions = pd.concat([interactions,d])\n",
    "            interactions = interactions.fillna(0)\n",
    "            interactions['arrayid'] = [array_id]*interactions.shape[0]\n",
    "            all_interactions=pd.concat([all_interactions,interactions])"
   ]
  },
  {
   "cell_type": "code",
   "execution_count": null,
   "metadata": {},
   "outputs": [],
   "source": [
    "if specimen == 'human':\n",
    "    human_puck_to_id = {\n",
    "        '200115_17':'Injured',\n",
    "        '200115_18':'Injured',\n",
    "        '200121_01':'Healthy',\n",
    "        '200121_03':'Healthy'\n",
    "    }\n",
    "    \n",
    "    all_interactions['pheno'] = [human_puck_to_id[x] for x in all_interactions['puckid']]"
   ]
  },
  {
   "cell_type": "code",
   "execution_count": null,
   "metadata": {
    "scrolled": true
   },
   "outputs": [],
   "source": [
    "if specimen == 'mouse':\n",
    "    phenos_all = []\n",
    "    for puckid in puckids:\n",
    "        if puckid in umodki_puckids:\n",
    "            pheno = 'UMOD-KI'\n",
    "        elif puckid in umodwt_puckids:\n",
    "            pheno = 'UMOD-WT'\n",
    "        temp = all_interactions[all_interactions['puckid']==puckid].copy()\n",
    "        phenos = [pheno]*temp.shape[0]\n",
    "        for p in phenos:\n",
    "            phenos_all.append(p)\n",
    "    all_interactions['pheno'] = phenos_all\n",
    "    \n",
    "    "
   ]
  },
  {
   "cell_type": "code",
   "execution_count": null,
   "metadata": {},
   "outputs": [],
   "source": [
    "all_interactions.to_csv('{specimen}_{section}_{celltype}_interactions.csv'.format(specimen=specimen,section=section,celltype=cell_type))"
   ]
  },
  {
   "cell_type": "code",
   "execution_count": null,
   "metadata": {},
   "outputs": [],
   "source": []
  }
 ],
 "metadata": {
  "kernelspec": {
   "display_name": "Python 3",
   "language": "python",
   "name": "python3"
  },
  "language_info": {
   "codemirror_mode": {
    "name": "ipython",
    "version": 3
   },
   "file_extension": ".py",
   "mimetype": "text/x-python",
   "name": "python",
   "nbconvert_exporter": "python",
   "pygments_lexer": "ipython3",
   "version": "3.7.4"
  }
 },
 "nbformat": 4,
 "nbformat_minor": 4
}
