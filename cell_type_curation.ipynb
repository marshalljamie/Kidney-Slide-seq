{
 "cells": [
  {
   "cell_type": "code",
   "execution_count": 1,
   "metadata": {},
   "outputs": [],
   "source": [
    "import matplotlib.pyplot as plt\n",
    "import alphashape\n",
    "from descartes import PolygonPatch\n",
    "from shapely.geometry import Point\n",
    "from os import path\n",
    "from KNN_filtration import *"
   ]
  },
  {
   "cell_type": "markdown",
   "metadata": {},
   "source": [
    "### Function defns"
   ]
  },
  {
   "cell_type": "code",
   "execution_count": 13,
   "metadata": {},
   "outputs": [],
   "source": [
    "# Takes in data matrix containing info for cell type to-be-curated and alphashape of structure in which \n",
    "# the cell type must be removed\n",
    "# Returns filtered cell type data\n",
    "def celltype_excluder(dat,alpha_shape):    \n",
    "    points = np.array(dat[['x','y']])\n",
    "    is_in_struct_arr = []\n",
    "    for coord in points:\n",
    "        is_in_struct = alpha_shape.intersects(Point(coord))\n",
    "        is_in_struct_arr.append(is_in_struct)\n",
    "\n",
    "    not_in_struct = [not i for i in is_in_struct_arr]\n",
    "    result = dat[not_in_struct]\n",
    "    \n",
    "    return(result)\n",
    "\n",
    "# Takes in data matrix containing info for cell type to-be-curated and alphashape of structure in which\n",
    "# the cell must be maintained\n",
    "# Returns filtered cell type data\n",
    "def celltype_includer(dat,alpha_shape):\n",
    "    points = np.array(dat[['x','y']])\n",
    "    is_in_struct_arr = []\n",
    "    for coord in points:\n",
    "        is_in_struct = alpha_shape.intersects(Point(coord))\n",
    "        is_in_struct_arr.append(is_in_struct)\n",
    "    \n",
    "    result = dat[is_in_struct_arr]\n",
    "    \n",
    "    return(result)"
   ]
  },
  {
   "cell_type": "markdown",
   "metadata": {},
   "source": [
    "### Initialization"
   ]
  },
  {
   "cell_type": "code",
   "execution_count": 3,
   "metadata": {},
   "outputs": [],
   "source": [
    "# cell type to-be-curated\n",
    "cell_type = 'DCT'\n",
    "# region of kidney \n",
    "section = 'cortex'\n",
    "\n",
    "# input_path is path to file with all beads x features in an array, \n",
    "# features = {'barcode','x','y'}\n",
    "input_path = 'coords.csv'\n",
    "coords = pd.read_csv(input_path,index_col=0)\n",
    "all_coords = np.array(coords)\n",
    "\n",
    "# input_path is path to file with beads x features for marker beads in section of interest in an array\n",
    "# features = {'barcode','x','y'}\n",
    "input_path = 'markers.csv'\n",
    "markers = pd.read_csv(input_path,index_col=0)"
   ]
  },
  {
   "cell_type": "markdown",
   "metadata": {},
   "source": [
    "### Remove markers from relevant structures"
   ]
  },
  {
   "cell_type": "code",
   "execution_count": 5,
   "metadata": {},
   "outputs": [],
   "source": [
    "# Glomeruli, granular cell clusters for CD-IC, CD-PC, DCT, PCT, and TAL\n",
    "# MD for CD-IC, CD-PC, DCT, and PCT\n",
    "\n",
    "if cell_type not in ['Podocyte','GC','MD']:\n",
    "    has_glom = False\n",
    "    has_gc = False\n",
    "    has_MD = False\n",
    "    alpha=0.01\n",
    "\n",
    "    # input_path is path to data matrix with barcodes x features for all curated cell types in glomeruli\n",
    "    # features = {'barcode','x','y'}\n",
    "    input_path = 'glom_dat.csv'\n",
    "    if path.exists(input_path):\n",
    "        has_glom = True\n",
    "        glom_dat = pd.read_csv(input_path,index_col=0)\n",
    "        points = np.array(glom_dat[['x','y']])\n",
    "        glom_alpha_shape = alphashape.alphashape(points,alpha=alpha)\n",
    "\n",
    "    # input_path is path to data matrix with barcodes x features for all curated granular cell beads\n",
    "    # features = {'barcode','x','y'}\n",
    "    input_path = 'gc_dat.csv'\n",
    "    if path.exists(input_path):\n",
    "        has_gc = True\n",
    "        gc_dat = pd.read_csv(input_path,index_col=0)\n",
    "        points = np.array(gc_dat[['x','y']])\n",
    "        gc_alpha_shape = alphashape.alphashape(points,alpha=alpha)\n",
    "\n",
    "    # input_path is path to data matrix with barcodes x features for all curated MD beads\n",
    "    # features = {'barcode','x','y'}\n",
    "    input_path = 'MD_dat.csv'\n",
    "    if path.exists(input_path):\n",
    "        has_MD = True\n",
    "        md_dat = pd.read_csv(input_path,index_col=0)\n",
    "        points = np.array(md_dat[['x','y']])\n",
    "        md_alpha_shape = alphashape.alphashape(points,alpha=alpha)\n",
    "\n",
    "    if has_glom:\n",
    "        markers = celltype_excluder(markers,glom_alpha_shape)\n",
    "        if has_gc:\n",
    "            markers = celltype_excluder(markers,gc_alpha_shape)\n",
    "    if cell_type != 'TAL':\n",
    "        if has_MD:\n",
    "            markers = celltype_excluder(markers,md_alpha_shape)"
   ]
  },
  {
   "cell_type": "markdown",
   "metadata": {},
   "source": [
    "### KNN filtration protocol"
   ]
  },
  {
   "cell_type": "code",
   "execution_count": 7,
   "metadata": {},
   "outputs": [],
   "source": [
    "# specify parameters\n",
    "# k = number of nearest neighbors to consider per marker bead\n",
    "# threshold = number of nearest neighbors to maintain\n",
    "k = 150\n",
    "threshold = 5"
   ]
  },
  {
   "cell_type": "code",
   "execution_count": 8,
   "metadata": {},
   "outputs": [],
   "source": [
    "eroded = get_markers_in_struct(all_coords, np.array(markers[['barcode','x','y']]), k, threshold)\n",
    "eroded = pd.DataFrame(eroded)\n",
    "eroded = eroded.rename(columns={0:'barcode',1:'x',2:'y'})"
   ]
  },
  {
   "cell_type": "markdown",
   "metadata": {},
   "source": [
    "### Visualize eroded vs. maintained points"
   ]
  },
  {
   "cell_type": "code",
   "execution_count": null,
   "metadata": {},
   "outputs": [],
   "source": [
    "plt.figure(figsize=(10,10))\n",
    "plt.scatter(markers['x'],markers['y'],s=3,c='b')\n",
    "plt.scatter(eroded['x'],eroded['y'],s=3,c='r')\n",
    "plt.xlim(0,6000)\n",
    "plt.ylim(0,6000)\n",
    "colors=['b','r']\n",
    "texts=['cell type marker','cell type filter 1']\n",
    "patches = [ plt.plot([],[], marker=\"o\", ms=3, ls=\"\", linewidth=0.6,color=colors[i], \n",
    "                label=\"{:s}\".format(texts[i]) )[0]  for i in range(len(texts)) ]\n",
    "plt.legend(handles=patches, bbox_to_anchor=(1, 0.5), \n",
    "        loc='center left', ncol=1,fontsize='medium')\n",
    "plt.show()"
   ]
  },
  {
   "cell_type": "markdown",
   "metadata": {},
   "source": [
    "### Define alphashape of celltype"
   ]
  },
  {
   "cell_type": "code",
   "execution_count": 10,
   "metadata": {},
   "outputs": [],
   "source": [
    "coords = np.array(eroded[['x','y']])\n",
    "alpha = 0.015\n",
    "celltype_alpha_shape = alphashape.alphashape(coords, alpha)\n",
    "\n",
    "shape_list = []\n",
    "if cell_type != 'TAL':\n",
    "    if has_MD and has_gc and has_glom:\n",
    "        shape_list = [glom_alpha_shape,gc_alpha_shape,MD_alpha_shape]\n",
    "    elif has_glom and not has_MD and has_gc:\n",
    "        shape_list = [glom_alpha_shape,gc_alpha_shape]\n",
    "    elif has_glom and has_MD and not has_gc:\n",
    "        shape_list = [glom_alpha_shape,MD_alpha_shape]\n",
    "    elif has_glom and not has_MD and not has_gc:\n",
    "        shape_list = [glom_alpha_shape]\n",
    "else:\n",
    "    if has_gc and has_glom:\n",
    "        shape_list = [glom_alpha_shape,gc_alpha_shape]\n",
    "    elif glom and not has_gc:\n",
    "        shape_list = [glom_alpha_shape]\n",
    "\n",
    "if len(shape_list)!=0:\n",
    "    for shape in shape_list:\n",
    "        celltype_alpha_shape = celltype_alpha_shape.difference(shape)"
   ]
  },
  {
   "cell_type": "markdown",
   "metadata": {},
   "source": [
    "### Visualize alphashape"
   ]
  },
  {
   "cell_type": "code",
   "execution_count": null,
   "metadata": {},
   "outputs": [],
   "source": [
    "fig, ax = plt.subplots(figsize=(10,10))\n",
    "ax.add_patch(PolygonPatch(celltype_alpha_shape, fc=(0,0,0,0),ec=(0,0,0,1)))\n",
    "ax.scatter(*zip(*coords),s=3,c='r')\n",
    "ax.set_xlim([0,6000])\n",
    "ax.set_ylim([0,6000])"
   ]
  },
  {
   "cell_type": "markdown",
   "metadata": {},
   "source": [
    "### Refine celltype structure by excluding points outside of alphashape"
   ]
  },
  {
   "cell_type": "code",
   "execution_count": 14,
   "metadata": {},
   "outputs": [],
   "source": [
    "eroded = celltype_includer(eroded,celltype_alpha_shape)"
   ]
  },
  {
   "cell_type": "markdown",
   "metadata": {},
   "source": [
    "### Visualize final product"
   ]
  },
  {
   "cell_type": "code",
   "execution_count": null,
   "metadata": {},
   "outputs": [],
   "source": [
    "plt.figure(figsize=(10,10))\n",
    "plt.scatter(markers['x'],markers['y'],s=3,c='b')\n",
    "plt.scatter(eroded['x'],eroded['y'],s=3,c='r')\n",
    "plt.xlim(0,6000)\n",
    "plt.ylim(0,6000)\n",
    "colors=['b','r']\n",
    "texts=['cell type marker','cell type 2']\n",
    "patches = [ plt.plot([],[], marker=\"o\", ms=3, ls=\"\", linewidth=0.6,color=colors[i], \n",
    "                label=\"{:s}\".format(texts[i]) )[0]  for i in range(len(texts)) ]\n",
    "plt.legend(handles=patches, bbox_to_anchor=(1, 0.5), \n",
    "        loc='center left', ncol=1,fontsize='medium')\n",
    "plt.show()"
   ]
  },
  {
   "cell_type": "markdown",
   "metadata": {},
   "source": [
    "### File output"
   ]
  },
  {
   "cell_type": "code",
   "execution_count": null,
   "metadata": {},
   "outputs": [],
   "source": [
    "# out_path is path to output file\n",
    "out_path = 'eroded.csv'\n",
    "eroded.to_csv(out_path)"
   ]
  }
 ],
 "metadata": {
  "kernelspec": {
   "display_name": "Python 3",
   "language": "python",
   "name": "python3"
  },
  "language_info": {
   "codemirror_mode": {
    "name": "ipython",
    "version": 3
   },
   "file_extension": ".py",
   "mimetype": "text/x-python",
   "name": "python",
   "nbconvert_exporter": "python",
   "pygments_lexer": "ipython3",
   "version": "3.7.6"
  }
 },
 "nbformat": 4,
 "nbformat_minor": 2
}
