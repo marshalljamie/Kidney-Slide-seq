{
 "cells": [
  {
   "cell_type": "code",
   "execution_count": null,
   "metadata": {},
   "outputs": [],
   "source": [
    "import pandas as pd\n",
    "import numpy as np\n",
    "from scipy.stats import mannwhitneyu\n",
    "import statsmodels.api as sm\n",
    "from statsmodels import stats\n",
    "from os import path"
   ]
  },
  {
   "cell_type": "code",
   "execution_count": null,
   "metadata": {},
   "outputs": [],
   "source": [
    "# takes in interaction data and names of two groups to-be-compared\n",
    "# returns df with cell type interaction compared, pval, pval_adj, and whether or not it is significant (based on pval_adj)\n",
    "def mann_whitney(dat,grp1,grp2):\n",
    "    mann_pvals = []\n",
    "    celltypes = list(np.unique(dat['celltype']))\n",
    "    for celltype in celltypes:\n",
    "        dat_celltype = dat[dat['celltype']==celltype].copy()\n",
    "        if np.std(dat_celltype['interaction_norm1']) > 0:\n",
    "            grp1 = dat_celltype[dat_celltype['humanid']==grp1].copy()\n",
    "            grp2 = dat_celltype[dat_celltype['humanid']==grp2].copy()\n",
    "            grp1 = grp1['interaction_norm1']\n",
    "            grp2 = grp2['interaction_norm1']\n",
    "            U1, p = mannwhitneyu(grp1,grp2)\n",
    "            mann_pvals.append([celltype,p])\n",
    "    \n",
    "    dat_final = pd.DataFrame('mann_pvals')\n",
    "    dat_final = dat_final.rename(columns={0:'celltype',1:'pval'})\n",
    "    dat_final = dat_final.sort_values(by=['pval'],ascending=True)\n",
    "    dat_final_p = dat_final['pval']\n",
    "    pval_adj = stats.multitest.fdrcorrection(dat_final_p, alpha=0.05, method='indep', is_sorted=True)\n",
    "    dat_final['pval_adj'] = pval_adj[1]\n",
    "    dat_final['sig_stat'] = pval_adj[0]"
   ]
  },
  {
   "cell_type": "markdown",
   "metadata": {},
   "source": [
    "### Statistics for human interactions"
   ]
  },
  {
   "cell_type": "code",
   "execution_count": null,
   "metadata": {},
   "outputs": [],
   "source": [
    "pheno_to_humanid = {\n",
    "    'Injured': '19',\n",
    "    'Healthy': '21'\n",
    "}"
   ]
  },
  {
   "cell_type": "code",
   "execution_count": null,
   "metadata": {},
   "outputs": [],
   "source": [
    "section = 'medulla'\n",
    "cell_type = 'CDPC'\n",
    "# input_path is path to file with interactions of specified cell type in specified section with \n",
    "# all other cell types for all instances of the cell type across all arrays to be compared\n",
    "input_path = 'human_{section}_{celltype}_interactions.csv'.format(section=section,celltype=cell_type)\n",
    "dat = pd.read_csv(input_path,index_col=0)\n",
    "dat = dat.drop(columns={'celltype_id'})\n",
    "dat['humanid'] = [pheno_to_humanid[x] for x in dat['pheno']]\n",
    "dat = dat[['puckid','humanid','celltype','interaction_norm1']]\n",
    "dat = dat.replace({'Endothelial':'EC','Mesangial':'MC','Ren1':'GC','Immune':'Other_Immune','CDPC':'CD-PC','CDIC':'CD-IC'})\n",
    "if section =='medulla':\n",
    "    dat = dat[~dat['celltype'].isin(['PCT','Podocyte','GC','MD','MC'])]\n",
    "dat = dat.reset_index()\n",
    "dat = dat.drop(columns={'index'})"
   ]
  },
  {
   "cell_type": "code",
   "execution_count": null,
   "metadata": {},
   "outputs": [],
   "source": [
    "result = mann_whitney(dat,'19','21')\n",
    "out_path = 'human_{section}_{celltype}_mannu_pvals.csv'.format(section=section,celltype=cell_type)\n",
    "result.to_csv(out_path)"
   ]
  },
  {
   "cell_type": "markdown",
   "metadata": {},
   "source": [
    "### Statistics for mouse interactions"
   ]
  },
  {
   "cell_type": "code",
   "execution_count": null,
   "metadata": {},
   "outputs": [],
   "source": [
    "section = 'cortex'\n",
    "cell_type = 'TAL'\n",
    "# input_path is path to file with interactions of specified cell type in specified section with \n",
    "# all other cell types for all instances of the cell type across all arrays to be compared\n",
    "input_path = 'mouse_{section}_{celltype}_interactions.csv'.format(section=section,celltype=cell_type)\n",
    "dat = pd.read_csv(input_path)\n",
    "dat = dat.drop(columns={'celltype_id'})\n",
    "dat = dat[['puckid','pheno','celltype','interaction_norm1']]\n",
    "dat = dat.replace({'Endothelial':'EC','Mesangial':'MC','Ren1':'GC','other_immune':'Other_Immune','CDPC':'CD-PC','CDIC':'CD-IC','PCT1':'PCT_1','PCT2':'PCT_2'})\n",
    "if section =='medulla':\n",
    "    dat = dat[~dat['celltype'].isin(['PCT_1','PCT_2','Podocyte','GC','MD','MC'])]\n",
    "dat = dat.reset_index()\n",
    "dat = dat.drop(columns={'index'})"
   ]
  },
  {
   "cell_type": "code",
   "execution_count": null,
   "metadata": {},
   "outputs": [],
   "source": [
    "result = mann_whitney(dat,'UMOD-KI','UMOD-WT')\n",
    "out_path = 'mouse_{section}_{celltype}_mannu_pvals.csv'.format(section=section,celltype=cell_type)\n",
    "result.to_csv(out_path)"
   ]
  }
 ],
 "metadata": {
  "kernelspec": {
   "display_name": "Python 3",
   "language": "python",
   "name": "python3"
  },
  "language_info": {
   "codemirror_mode": {
    "name": "ipython",
    "version": 3
   },
   "file_extension": ".py",
   "mimetype": "text/x-python",
   "name": "python",
   "nbconvert_exporter": "python",
   "pygments_lexer": "ipython3",
   "version": "3.7.4"
  }
 },
 "nbformat": 4,
 "nbformat_minor": 2
}
