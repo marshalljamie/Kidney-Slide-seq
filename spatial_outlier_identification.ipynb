{
 "cells": [
  {
   "cell_type": "code",
   "execution_count": 1,
   "metadata": {},
   "outputs": [],
   "source": [
    "import pandas as pd\n",
    "import numpy as np\n",
    "import matplotlib.pyplot as plt\n",
    "from sklearn.ensemble import IsolationForest\n",
    "import argparse\n",
    "np.random.seed(111)"
   ]
  },
  {
   "cell_type": "markdown",
   "metadata": {},
   "source": [
    "### File input"
   ]
  },
  {
   "cell_type": "code",
   "execution_count": 5,
   "metadata": {},
   "outputs": [],
   "source": [
    "# input_path is path to file with all beads x features in an array\n",
    "# features = {'barcode','x','y'}\n",
    "input_path = 'coords.csv'\n",
    "coords = pd.read_csv(input_path,index_col=0)\n",
    "all_coords = np.array(coords[['x','y']])"
   ]
  },
  {
   "cell_type": "markdown",
   "metadata": {},
   "source": [
    "### Isolation forest protocol"
   ]
  },
  {
   "cell_type": "code",
   "execution_count": null,
   "metadata": {},
   "outputs": [],
   "source": [
    "# define isolation forest parameters\n",
    "# see https://scikit-learn.org/stable/modules/generated/sklearn.ensemble.IsolationForest.html for details\n",
    "max_samples = 50000\n",
    "contamination = 0.0004\n",
    "rng = np.random.RandomState(42)\n",
    "n_jobs = -1\n",
    "bootstrap = True"
   ]
  },
  {
   "cell_type": "code",
   "execution_count": null,
   "metadata": {},
   "outputs": [],
   "source": [
    "# fit isolation forest model and predict outliers\n",
    "clf = IsolationForest(max_samples=max_samples, random_state=rng,contamination=contamination,n_jobs=n_jobs,bootstrap=bootstrap)\n",
    "clf.fit(all_coords)\n",
    "y_pred = clf.predict(all_coords)"
   ]
  },
  {
   "cell_type": "markdown",
   "metadata": {},
   "source": [
    "### Visualize anomaly predictions"
   ]
  },
  {
   "cell_type": "code",
   "execution_count": null,
   "metadata": {},
   "outputs": [],
   "source": [
    "# store outlier classification per bead (-1 labels outliers, 1 labels inliers)\n",
    "coords['isolation_pred'] = y_pred\n",
    "\n",
    "# visualize outliers/inliers across 2-D space\n",
    "outliers = coords[coords['isolation_pred']==-1]\n",
    "inliers = coords[coords['isolation_pred']==1]\n",
    "plt.figure(figsize=(10,10))\n",
    "plt.scatter(inliers['x'],inliers['y'],s=3,c='b')\n",
    "plt.scatter(outliers['x'],outliers['y'],s=3,c='r')\n",
    "plt.xlim(0,6000)\n",
    "plt.ylim(0,6000)\n",
    "plt.show()"
   ]
  },
  {
   "cell_type": "markdown",
   "metadata": {},
   "source": [
    "### File output"
   ]
  },
  {
   "cell_type": "code",
   "execution_count": null,
   "metadata": {},
   "outputs": [],
   "source": [
    "# save in output_path, path to output file\n",
    "output_path = 'outlier_predictions.csv'\n",
    "coords.to_csv(output_path)"
   ]
  }
 ],
 "metadata": {
  "kernelspec": {
   "display_name": "Python 3",
   "language": "python",
   "name": "python3"
  },
  "language_info": {
   "codemirror_mode": {
    "name": "ipython",
    "version": 3
   },
   "file_extension": ".py",
   "mimetype": "text/x-python",
   "name": "python",
   "nbconvert_exporter": "python",
   "pygments_lexer": "ipython3",
   "version": "3.7.4"
  }
 },
 "nbformat": 4,
 "nbformat_minor": 2
}
