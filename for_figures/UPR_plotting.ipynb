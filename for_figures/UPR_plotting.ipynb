{
 "cells": [
  {
   "cell_type": "code",
   "execution_count": null,
   "metadata": {},
   "outputs": [],
   "source": [
    "import pandas as pd\n",
    "import numpy as np\n",
    "import os\n",
    "import seaborn as sns\n",
    "#import scanpy as sc\n",
    "import matplotlib.pyplot as plt\n",
    "np.random.seed(111)"
   ]
  },
  {
   "cell_type": "code",
   "execution_count": null,
   "metadata": {},
   "outputs": [],
   "source": [
    "d = {'IRE1alpha-down': ['Yif1a','Tmem165'],\n",
    "     'PERK-down': ['Hspe1','Rps26','Ppia','Ndufs5','Prdx1','Ptma','Dnaja1','Tubb4b','Uqcr11','Polr2l','Cox6b1','Rps10','Cox6a1'],\n",
    "     'PERK-up': ['Mthfd2','Eif4ebp1','Xbp1','Ddit3','Trib3','Socs2','Cebpg','Eif1b','Eif1','Map1b','Gars','Pck2','Sesn2','Cth','Psph','Wars','Phgdh','Hax1','Psat1','Bex2','Lmo4','Fam89a','Tsc22d3','Rgs16','Map3k8','Idh1','Ccpg1','Pim1','Slc3a2','Snhg8'],\n",
    "     'IRE1alpha-up': ['Dnajb9','Tmed2','Serp1','Vimp','Derl2','Slc35b1','Erlec1','Armcx3','Sec61a1','Sec61b','Ppib','Ssr2','Tmed9','Nans','Ostc','Ssr3','Ssr1'],\n",
    "     'ATF6-up': ['Selk','Cdk2ap2','Hspa5','Herpud1','Sdf2l1','Dnajb11','Manf','Hsp90b1','Creld2','Pdia6','Pdia4','Calr','Dnajc3','Hyou1','Tmem50b'],\n",
    "    }"
   ]
  },
  {
   "cell_type": "code",
   "execution_count": null,
   "metadata": {},
   "outputs": [],
   "source": [
    "order = ['Yif1a','Tmem165','Hspe1','Rps26','Ppia','Ndufs5','Prdx1','Ptma','Dnaja1','Tubb4b','Uqcr11','Polr2l','Cox6b1','Rps10','Cox6a1','Mthfd2','Eif4ebp1','Xbp1','Ddit3','Trib3','Socs2',\n",
    "         'Cebpg','Eif1b','Eif1','Map1b','Gars','Pck2','Sesn2','Cth','Psph','Wars','Phgdh','Hax1','Psat1','Bex2','Lmo4','Fam89a','Tsc22d3','Rgs16','Map3k8','Idh1','Ccpg1','Pim1','Slc3a2',\n",
    "         'Snhg8','Dnajb9','Tmed2','Serp1','Vimp','Derl2','Slc35b1','Erlec1','Armcx3','Sec61a1','Sec61b','Ppib','Ssr2','Tmed9','Nans','Ostc','Ssr3','Ssr1','Selk','Cdk2ap2','Hspa5',\n",
    "         'Herpud1','Sdf2l1','Dnajb11','Manf','Hsp90b1','Creld2','Pdia6','Pdia4','Calr','Dnajc3',\n",
    "         'Hyou1','Tmem50b']"
   ]
  },
  {
   "cell_type": "code",
   "execution_count": null,
   "metadata": {},
   "outputs": [],
   "source": [
    "cell_type = 'TAL'\n",
    "section = 'medulla'"
   ]
  },
  {
   "cell_type": "code",
   "execution_count": null,
   "metadata": {},
   "outputs": [],
   "source": [
    "# input_path is path to file with genes x features for all UPR genes\n",
    "# features = {'pvals_adj','cluster','logs'}, where cluster signifies whether the gene was upregulated in UMOD-KI or UMOD-WT,\n",
    "# logs are avg log FC of gene expression between UMOD-KI and UMOD-WT in specified cell type and section\n",
    "# only contains data for genes where pval_adj < 0.05, logs>0.0\n",
    "input_path = '{cell_type}_{section}_UPR_pathway_DE_results.csv'.format(cell_type=cell_type,section=section)\n",
    "DE_dat = pd.read_csv(input_path,index_col=0)"
   ]
  },
  {
   "cell_type": "code",
   "execution_count": null,
   "metadata": {},
   "outputs": [],
   "source": [
    "temp = [x for x in order if x not in list(DE_dat['genes'])]\n",
    "nonsig_genes = pd.DataFrame()\n",
    "nonsig_genes['genes'] = temp\n",
    "nonsig_genes['pvals_adj'] = [1.0]*nonsig_genes.shape[0]\n",
    "nonsig_genes['cluster'] = [np.nan]*nonsig_genes.shape[0]\n",
    "nonsig_genes['logs'] = [0.0]*nonsig_genes.shape[0]"
   ]
  },
  {
   "cell_type": "code",
   "execution_count": null,
   "metadata": {},
   "outputs": [],
   "source": [
    "DE_dat = pd.concat([DE_dat,nonsig_genes])"
   ]
  },
  {
   "cell_type": "code",
   "execution_count": null,
   "metadata": {},
   "outputs": [],
   "source": [
    "pathways = []\n",
    "for gene in DE_dat['genes']:\n",
    "    for x,y in d.items():\n",
    "        if gene in y:\n",
    "            pathway = x\n",
    "            break\n",
    "    pathways.append(x)"
   ]
  },
  {
   "cell_type": "code",
   "execution_count": null,
   "metadata": {},
   "outputs": [],
   "source": [
    "DE_dat['pathway'] = pathways"
   ]
  },
  {
   "cell_type": "code",
   "execution_count": null,
   "metadata": {},
   "outputs": [],
   "source": [
    "DE_dat=DE_dat.sort_values(by=['logs'],ascending=False).groupby('pathway').head(DE_dat.shape[0])"
   ]
  },
  {
   "cell_type": "code",
   "execution_count": null,
   "metadata": {},
   "outputs": [],
   "source": [
    "pathway_order = ['IRE1alpha-down','PERK-down', 'ATF6-up', 'IRE1alpha-up', 'PERK-up']\n",
    "DE_dat_ord = pd.DataFrame()\n",
    "for pathway in pathway_order:\n",
    "    temp = DE_dat[DE_dat['pathway']==pathway].copy()\n",
    "    temp1 = temp[temp['cluster']=='UMOD-KI']\n",
    "    temp2 = temp[temp['cluster']=='UMOD-WT']\n",
    "    temp3 = temp[temp['cluster'].isnull().values]\n",
    "    temp = pd.concat([temp1,temp2,temp3])\n",
    "    DE_dat_ord = pd.concat([DE_dat_ord,temp])"
   ]
  },
  {
   "cell_type": "code",
   "execution_count": null,
   "metadata": {},
   "outputs": [],
   "source": [
    "DE_dat_ord = DE_dat_ord.reset_index()\n",
    "DE_dat_ord = DE_dat_ord.drop(columns={'index'})"
   ]
  },
  {
   "cell_type": "code",
   "execution_count": null,
   "metadata": {},
   "outputs": [],
   "source": [
    "DE_dat=DE_dat_ord[DE_dat_ord['pvals_adj']<0.05]\n",
    "DE_dat=DE_dat_ord[DE_dat_ord['logs']>0]"
   ]
  },
  {
   "cell_type": "code",
   "execution_count": null,
   "metadata": {},
   "outputs": [],
   "source": [
    "sig_genes=list(DE_dat['genes'])\n",
    "sig_gene_d = {}\n",
    "for g in sig_genes:\n",
    "    sig_gene_d[g] = '* '+g"
   ]
  },
  {
   "cell_type": "code",
   "execution_count": null,
   "metadata": {},
   "outputs": [],
   "source": [
    "order = ['geno']+list(DE_dat_ord['genes'])\n",
    "array_avg=array_avg[order]\n",
    "array_avg=array_avg.rename(columns={'geno':'genotype'})\n",
    "temp1 = array_avg[array_avg['genotype']=='UMOD-WT']\n",
    "temp2 = array_avg[array_avg['genotype']=='UMOD-KI']\n",
    "array_avg = pd.concat([temp1,temp2])"
   ]
  },
  {
   "cell_type": "code",
   "execution_count": null,
   "metadata": {},
   "outputs": [],
   "source": [
    "genesonly=array_avg.iloc[:,1:]"
   ]
  },
  {
   "cell_type": "code",
   "execution_count": null,
   "metadata": {},
   "outputs": [],
   "source": [
    "pathways = []\n",
    "for gene in genesonly.columns:\n",
    "    for x,y in d.items():\n",
    "        if gene in y:\n",
    "            pathway = x\n",
    "            break\n",
    "    pathways.append(x)"
   ]
  },
  {
   "cell_type": "code",
   "execution_count": null,
   "metadata": {},
   "outputs": [],
   "source": [
    "pathways=pd.DataFrame(pathways)\n",
    "pathways=pathways.rename(columns={0:'pathway'})\n",
    "pathways=pathways.set_index(genesonly.columns)"
   ]
  },
  {
   "cell_type": "code",
   "execution_count": null,
   "metadata": {},
   "outputs": [],
   "source": [
    "pathways=pathways.rename(index=sig_gene_d)\n",
    "genesonly=genesonly.rename(columns=sig_gene_d)"
   ]
  },
  {
   "cell_type": "code",
   "execution_count": null,
   "metadata": {},
   "outputs": [],
   "source": [
    "plt.rcParams[\"font.family\"] = \"Arial\"\n",
    "plt.rcParams['font.size'] = 22\n",
    "sns.clustermap(genesonly,row_cluster=False,col_cluster=False,cmap='viridis',xticklabels=1,yticklabels=False,cbar_pos=(0.1, 0.5, 0.05, 0.18),standard_scale=1,figsize=(28,10))\n",
    "plt.savefig('{cell_type}_{section}_avg_by_mouse_clustermap_viridis_missing_added.pdf'.format(cell_type=celltype,section=section),dpi=300)"
   ]
  },
  {
   "cell_type": "code",
   "execution_count": null,
   "metadata": {},
   "outputs": [],
   "source": [
    "array_avg=array_avg.replace({'UMOD-WT':'WT','UMOD-KI':'UMOD_KI'})"
   ]
  },
  {
   "cell_type": "code",
   "execution_count": null,
   "metadata": {},
   "outputs": [],
   "source": [
    "DE_dat=DE_dat_ord.copy()"
   ]
  },
  {
   "cell_type": "code",
   "execution_count": null,
   "metadata": {},
   "outputs": [],
   "source": [
    "cell_type='TAL'\n",
    "section='medulla'\n",
    "for pathway in np.unique(pathways):\n",
    "    temp = DE_dat[DE_dat['pathway']==pathway]\n",
    "    temp = list(temp['genes'])\n",
    "    n_genes=len(temp)\n",
    "    for j in range(n_genes):\n",
    "        print(pathway,pheno,temp[j])\n",
    "\n",
    "        colors = [\"dodgerblue\", \"firebrick\"]\n",
    "        sns.set_style(\"whitegrid\", {'axes.grid' : False,'font.family': ['sans-serif'],'font.sans-serif': ['Arial'],'figure.figsize':(5,5)})\n",
    "        ax=sns.violinplot(data=array_avg,x='genotype',y=temp[j], inner=None,palette=colors,scale='width')\n",
    "        ax = sns.swarmplot(x=\"genotype\", y=temp[j], data=array_avg, color=\".2\")\n",
    "        sns.despine(top=True,right=True)\n",
    "        ax.set_xlabel(None)\n",
    "        ax.set_ylabel('Expression level', fontsize=18)\n",
    "        l = ax.get_xticklabels()\n",
    "        ax.set_xticklabels(l, fontsize=16)\n",
    "        l = ax.get_yticks()\n",
    "        ax.set_yticklabels(l.round(3), fontsize=16)\n",
    "        ax.set_title(temp[j], fontsize=18)\n",
    "        ax.spines['bottom'].set_color('black')\n",
    "        ax.spines['left'].set_color('black')\n",
    "        ax.tick_params(axis='x', colors='black')\n",
    "        plt.savefig('{cell_type}_{section}_mouse_avg_{gene}_{pathway}_violin_missing_added.pdf'.format(cell_type=cell_type,section=section,pathway=pathway,gene=temp[j]),dpi=300,bbox_inches='tight')\n",
    "        plt.show()\n",
    "        plt.close('all')\n"
   ]
  },
  {
   "cell_type": "code",
   "execution_count": null,
   "metadata": {},
   "outputs": [],
   "source": []
  }
 ],
 "metadata": {
  "kernelspec": {
   "display_name": "Python 3",
   "language": "python",
   "name": "python3"
  },
  "language_info": {
   "codemirror_mode": {
    "name": "ipython",
    "version": 3
   },
   "file_extension": ".py",
   "mimetype": "text/x-python",
   "name": "python",
   "nbconvert_exporter": "python",
   "pygments_lexer": "ipython3",
   "version": "3.7.4"
  }
 },
 "nbformat": 4,
 "nbformat_minor": 4
}
