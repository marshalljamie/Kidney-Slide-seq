{
 "cells": [
  {
   "cell_type": "code",
   "execution_count": null,
   "metadata": {},
   "outputs": [],
   "source": [
    "import pandas as pd\n",
    "import numpy as np\n",
    "import os\n",
    "from os import path\n",
    "import matplotlib.pyplot as plt\n",
    "import bokeh\n",
    "from bokeh import palettes\n",
    "from bokeh.palettes import Set1\n",
    "from bokeh.palettes import Set2\n",
    "from bokeh.palettes import Set3\n",
    "from bokeh.palettes import Dark2\n",
    "import matplotlib as mpl"
   ]
  },
  {
   "cell_type": "markdown",
   "metadata": {},
   "source": [
    "### For mice"
   ]
  },
  {
   "cell_type": "code",
   "execution_count": null,
   "metadata": {},
   "outputs": [],
   "source": [
    "geno1 = 'DKD'\n",
    "geno2 = 'WT'\n",
    "cell_type = 'glom_podo'\n",
    "section = 'cortex'\n",
    "select = ['glom_endo','ren1','glom_podo','CDPC','CDIC','DCT']"
   ]
  },
  {
   "cell_type": "code",
   "execution_count": null,
   "metadata": {},
   "outputs": [],
   "source": [
    "# in_path is path to file with umap_1,umap_2 coordinates\n",
    "in_path = '{geno1}_{geno2}_{cell_type}_{section}_standard_embedding.csv'.format(geno1=geno1,geno2=geno2,cell_type=cell_type,section=section)\n",
    "standard_embedding = np.array(pd.read_csv(in_path,index_col=0))"
   ]
  },
  {
   "cell_type": "code",
   "execution_count": null,
   "metadata": {},
   "outputs": [],
   "source": [
    "# in_path is path to file with cluster labels\n",
    "in_path = '{geno1}_{geno2}_{cell_type}_{section}_labels.csv'.format(geno1=geno1,geno2=geno2,cell_type=cell_type,section=section)\n",
    "labels = np.array(pd.read_csv(in_path,index_col=0))"
   ]
  },
  {
   "cell_type": "code",
   "execution_count": null,
   "metadata": {},
   "outputs": [],
   "source": [
    "clustered = (labels >= 0)\n",
    "nonzero_clusters = np.unique(labels[clustered])\n",
    "n_clusters = len(nonzero_clusters)"
   ]
  },
  {
   "cell_type": "markdown",
   "metadata": {},
   "source": [
    "#### Plot cluster ids in UMAP-space"
   ]
  },
  {
   "cell_type": "code",
   "execution_count": null,
   "metadata": {
    "scrolled": false
   },
   "outputs": [],
   "source": [
    "out_path = os.path.join(out_dir,'{geno1}_{geno2}_{cell_type}_{section}_UMAP_colored_by_clustid.pdf'.format(geno1=geno1,geno2=geno2,cell_type=cell_type,section=section))\n",
    "plt.figure(figsize=(5,5))\n",
    "plt.rcParams[\"font.family\"] = \"Arial\"\n",
    "plt.rcParams['font.size'] = 20\n",
    "\n",
    "colors = ['#1f77b4', '#ff7f0e','mediumseagreen','r','blueviolet','brown']\n",
    "plt.scatter(standard_embedding[~clustered, 0],\n",
    "            standard_embedding[~clustered, 1],\n",
    "            c=(0.5,0.5,0.5),\n",
    "            s=15,\n",
    "            alpha=0.5)\n",
    "for i in nonzero_clusters:\n",
    "    plt.scatter(standard_embedding[(labels==i), 0],\n",
    "                standard_embedding[(labels==i), 1],\n",
    "                c=colors[i],\n",
    "                ec = 'black',\n",
    "                linewidth = 0.5,\n",
    "                s=15);\n",
    "\n",
    "\n",
    "plt.gca().spines['right'].set_color('none')\n",
    "plt.gca().spines['top'].set_color('none')\n",
    "plt.xlabel('UMAP-1')\n",
    "plt.ylabel('UMAP-2')\n",
    "plt.rcParams[\"axes.grid\"] = False\n",
    "\n",
    "if celltype in select:\n",
    "    colors = ['#1f77b4','#ff7f0e','lightgrey']\n",
    "    texts = ['cluster 0','cluster 1', 'not clustered']\n",
    "    outlines = ['black','black','grey']\n",
    "    patches = [ plt.plot([],[], marker=\"o\", ms=10, mec=outlines[i],ls='none', linewidth=0.6,color=colors[i], \n",
    "                    label=\"{:s}\".format(texts[i]) )[0]  for i in range(len(texts)) ]\n",
    "else:\n",
    "    colors = ['#1f77b4','#ff7f0e']\n",
    "    texts = ['cluster 0','cluster 1']\n",
    "    patches = [ plt.plot([],[], marker=\"o\", ms=10, mec='black',ls='none', linewidth=0.6,color=colors[i], \n",
    "                    label=\"{:s}\".format(texts[i]) )[0]  for i in range(len(texts)) ]\n",
    "plt.legend(handles=patches, loc='center left', framealpha=1,frameon=False,bbox_to_anchor=(1, 0.5),title='Cluster id')\n",
    "\n",
    "plt.savefig(out_path,dpi=300,bbox_inches='tight')"
   ]
  },
  {
   "cell_type": "markdown",
   "metadata": {},
   "source": [
    "#### Plot genotypes in UMAP-space"
   ]
  },
  {
   "cell_type": "code",
   "execution_count": null,
   "metadata": {},
   "outputs": [],
   "source": [
    "# input_path is path to file with all data points to-be-clustered (aggregated structures or beads) for specified section and cell type\n",
    "# in specified genotypes that were analyzed\n",
    "input_path = '{geno1}_{geno2}_{cell_type}_{section}_combined_cts.pkl'.format(geno1=geno1,geno2=geno2,cell_type=cell_type,section=section)\n",
    "combined_cts = pd.read_pickle(input_path)\n",
    "geno1_ct = sum(combined_cts['pheno'][clustered] == geno1)\n",
    "geno2_ct = sum(combined_cts['pheno'][clustered] == geno2)"
   ]
  },
  {
   "cell_type": "code",
   "execution_count": null,
   "metadata": {},
   "outputs": [],
   "source": [
    "out_path = os.path.join(out_dir,'{geno1}_{geno2}_{cell_type}_{section}_UMAP_colored_by_pheno.pdf'.format(geno1=geno1,geno2=geno2,cell_type=cell_type,section=section))\n",
    "clustered = (labels >= 0)\n",
    "plt.figure(figsize=(5,5))\n",
    "plt.rcParams[\"font.family\"] = \"Arial\"\n",
    "plt.rcParams['font.size'] = 20\n",
    "\n",
    "cmap = mpl.colors.ListedColormap(['#1f77b4', '#ff7f0e'])\n",
    "plt.scatter(standard_embedding[~clustered, 0],\n",
    "            standard_embedding[~clustered, 1],\n",
    "            c=(0.5,0.5,0.5),\n",
    "            s=15,\n",
    "            alpha=0.5)\n",
    "plt.scatter(standard_embedding[clustered,0][0:geno1_ct],\n",
    "            standard_embedding[clustered,1][0:geno1_ct],\n",
    "            c='r',\n",
    "            ec='black',\n",
    "            linewidth=0.5,\n",
    "            s=15);\n",
    "plt.scatter(standard_embedding[clustered,0][geno1_ct:],\n",
    "            standard_embedding[clustered,1][geno1_ct:],\n",
    "            c='b',\n",
    "            ec='black',\n",
    "            linewidth=0.5,\n",
    "            s=15);\n",
    "\n",
    "plt.gca().spines['right'].set_color('none')\n",
    "plt.gca().spines['top'].set_color('none')\n",
    "plt.xlabel('UMAP-1')\n",
    "plt.ylabel('UMAP-2')\n",
    "plt.rcParams[\"axes.grid\"] = False\n",
    "\n",
    "# texts depend on geno1 and geno2\n",
    "if celltype in select+select2:\n",
    "    colors = ['b','r','lightgrey']\n",
    "    #texts = ['WT','UMOD_KI','not clustered'] \n",
    "    texts = ['BTBR $\\it{wt/wt}$','BTBR $\\it{ob/ob}$','not clustered']\n",
    "    outlines = ['black','black','grey']\n",
    "    patches = [ plt.plot([],[], marker=\"o\", ms=10, mec=outlines[i],ls='none', linewidth=0.6,color=colors[i], \n",
    "                    label=\"{:s}\".format(texts[i]) )[0] for i in range(len(texts)) ]\n",
    "else:\n",
    "    colors = ['b','r','lightgrey']\n",
    "    #texts = ['WT','UMOD_KI']\n",
    "    outlines = ['black','black']\n",
    "    patches = [ plt.plot([],[], marker=\"o\", ms=10, mec=outlines[i],ls='none', linewidth=0.6,color=colors[i], \n",
    "                    label=\"{:s}\".format(texts[i]) )[0]  for i in range(len(texts)) ]\n",
    "plt.legend(handles=patches, loc='center left', framealpha=1,frameon=False,bbox_to_anchor=(1, 0.5),title='Genotype')\n",
    "plt.savefig(out_path,dpi=300,bbox_inches='tight')"
   ]
  },
  {
   "cell_type": "markdown",
   "metadata": {},
   "source": [
    "#### Plot batches in UMAP-space"
   ]
  },
  {
   "cell_type": "code",
   "execution_count": null,
   "metadata": {},
   "outputs": [],
   "source": [
    "# batches is file with batch numbers\n",
    "batches = pd.read_csv('{geno1}_{geno2}_{cell_type}_{section}_batches.csv'.format(geno1=geno1,geno2=geno2,cell_type=cell_type,section=section),index_col=0)\n",
    "batches = batches.reset_index()\n",
    "batches = batches.drop(columns={'index'})\n",
    "\n",
    "temp = pd.DataFrame(standard_embedding)\n",
    "temp = temp.rename(columns={0:'x',1:'y'})\n",
    "temp = temp.reset_index()\n",
    "temp = temp.drop(columns={'index'})\n",
    "temp['batch'] = batches\n",
    "temp['batch'] = temp.batch.astype('str')\n",
    "temp['batch'] = temp.batch.astype('category')\n",
    "temp['labels'] = labels\n",
    "\n",
    "if cell_type in select:\n",
    "    unclustered = temp[~clustered]\n",
    "    temp = temp[clustered]\n",
    "\n",
    "n =len(np.unique(temp['batch']))\n",
    "\n",
    "t = Set1[n]\n",
    "colors = {}\n",
    "for i,puckid in enumerate(np.unique(temp['batch'])):\n",
    "    colors[puckid] = t[i]"
   ]
  },
  {
   "cell_type": "code",
   "execution_count": null,
   "metadata": {},
   "outputs": [],
   "source": [
    "out_path = os.path.join(out_dir,'{geno1}_{geno2}_{cell_type}_{section}_UMAP_colored_by_batch.pdf'.format(geno1=geno1,geno2=geno2,cell_type=cell_type,section=section))\n",
    "plt.figure(figsize=(5,5))\n",
    "plt.rcParams[\"font.family\"] = \"Arial\"\n",
    "plt.rcParams['font.size'] = 20\n",
    "if cell_type in select:\n",
    "    plt.scatter(unclustered.x,unclustered.y,c='grey',alpha=0.5,s=15,ec='black',linewidth=0.5)\n",
    "plt.scatter(temp.x,temp.y,c=temp['batch'].map(colors),s=15,ec='black',linewidth=0.5)\n",
    "plt.gca().spines['right'].set_color('none')\n",
    "plt.gca().spines['top'].set_color('none')\n",
    "plt.xlabel('UMAP-1')\n",
    "plt.ylabel('UMAP-2')\n",
    "plt.rcParams[\"axes.grid\"] = False\n",
    "\n",
    "colors = t\n",
    "texts = list(np.unique(temp['batch']))\n",
    "patches = [ plt.plot([],[], marker=\"o\", ms=10, mec='black',ls='none', linewidth=0.6,color=colors[i], \n",
    "                label=\"{:s}\".format(texts[i]) )[0]  for i in range(len(texts)) ]\n",
    "plt.legend(handles=patches, loc='center left', framealpha=1,frameon=False,bbox_to_anchor=(1, 0.5),title='Batch')\n",
    "\n",
    "\n",
    "plt.savefig(out_path,dpi=300,bbox_inches='tight')\n",
    "plt.show()"
   ]
  },
  {
   "cell_type": "code",
   "execution_count": null,
   "metadata": {},
   "outputs": [],
   "source": []
  }
 ],
 "metadata": {
  "kernelspec": {
   "display_name": "Python 3",
   "language": "python",
   "name": "python3"
  },
  "language_info": {
   "codemirror_mode": {
    "name": "ipython",
    "version": 3
   },
   "file_extension": ".py",
   "mimetype": "text/x-python",
   "name": "python",
   "nbconvert_exporter": "python",
   "pygments_lexer": "ipython3",
   "version": "3.7.4"
  }
 },
 "nbformat": 4,
 "nbformat_minor": 2
}
